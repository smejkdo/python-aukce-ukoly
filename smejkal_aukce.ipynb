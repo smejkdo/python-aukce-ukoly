{
  "nbformat": 4,
  "nbformat_minor": 0,
  "metadata": {
    "colab": {
      "name": "seznam_aukce.ipynb",
      "provenance": [],
      "collapsed_sections": []
    },
    "kernelspec": {
      "name": "python3",
      "display_name": "Python 3"
    },
    "language_info": {
      "name": "python"
    }
  },
  "cells": [
    {
      "cell_type": "code",
      "execution_count": null,
      "metadata": {
        "id": "6XD7Eg8jl71X"
      },
      "outputs": [],
      "source": [
        "import pandas as pd\n",
        "import numpy as np\n",
        "import matplotlib.pyplot as plt\n",
        "\n",
        "from sklearn.linear_model import LogisticRegression\n",
        "from sklearn.model_selection import train_test_split\n",
        "from sklearn.metrics import confusion_matrix, log_loss, accuracy_score\n",
        "from sklearn import preprocessing\n",
        "from imblearn.under_sampling import TomekLinks\n",
        "from imblearn.over_sampling import BorderlineSMOTE\n",
        "\n",
        "!pip install fitter > /dev/null\n",
        "from fitter import Fitter, get_common_distributions\n",
        "import warnings\n",
        "\n",
        "warnings.filterwarnings(\"ignore\")\n",
        "parent_folder='/content/drive/MyDrive/Seznam/Aukce'"
      ]
    },
    {
      "cell_type": "markdown",
      "source": [
        "# Část 1 - aukce"
      ],
      "metadata": {
        "id": "3HGdDomlvznZ"
      }
    },
    {
      "cell_type": "code",
      "source": [
        "df_raw = pd.read_csv(parent_folder+'/bids_train.csv')\n",
        "df = df_raw.set_index('auction_id').fillna(0) # Nezucastnil se => nabidl 0\n",
        "df['time'] = pd.to_datetime(df['time'], format='%Y-%m-%d %H:%M:%S')\n",
        "#df.info()\n",
        "df.head()"
      ],
      "metadata": {
        "colab": {
          "base_uri": "https://localhost:8080/",
          "height": 237
        },
        "id": "2OApm32Bp7Jp",
        "outputId": "57f76ccb-30d3-4670-f226-04e26e63f4e6"
      },
      "execution_count": null,
      "outputs": [
        {
          "output_type": "execute_result",
          "data": {
            "text/plain": [
              "                          time     A      B      C\n",
              "auction_id                                        \n",
              "100        2022-01-01 02:10:56  70.0   48.0  105.0\n",
              "101        2022-01-01 02:12:14   7.0  127.0    6.0\n",
              "102        2022-01-01 02:13:33  20.0   22.0    9.0\n",
              "103        2022-01-01 02:14:51  18.0   12.0   27.0\n",
              "104        2022-01-01 02:16:10  13.0    5.0   66.0"
            ],
            "text/html": [
              "\n",
              "  <div id=\"df-64b5838f-3329-4980-b1ec-6de4673220ce\">\n",
              "    <div class=\"colab-df-container\">\n",
              "      <div>\n",
              "<style scoped>\n",
              "    .dataframe tbody tr th:only-of-type {\n",
              "        vertical-align: middle;\n",
              "    }\n",
              "\n",
              "    .dataframe tbody tr th {\n",
              "        vertical-align: top;\n",
              "    }\n",
              "\n",
              "    .dataframe thead th {\n",
              "        text-align: right;\n",
              "    }\n",
              "</style>\n",
              "<table border=\"1\" class=\"dataframe\">\n",
              "  <thead>\n",
              "    <tr style=\"text-align: right;\">\n",
              "      <th></th>\n",
              "      <th>time</th>\n",
              "      <th>A</th>\n",
              "      <th>B</th>\n",
              "      <th>C</th>\n",
              "    </tr>\n",
              "    <tr>\n",
              "      <th>auction_id</th>\n",
              "      <th></th>\n",
              "      <th></th>\n",
              "      <th></th>\n",
              "      <th></th>\n",
              "    </tr>\n",
              "  </thead>\n",
              "  <tbody>\n",
              "    <tr>\n",
              "      <th>100</th>\n",
              "      <td>2022-01-01 02:10:56</td>\n",
              "      <td>70.0</td>\n",
              "      <td>48.0</td>\n",
              "      <td>105.0</td>\n",
              "    </tr>\n",
              "    <tr>\n",
              "      <th>101</th>\n",
              "      <td>2022-01-01 02:12:14</td>\n",
              "      <td>7.0</td>\n",
              "      <td>127.0</td>\n",
              "      <td>6.0</td>\n",
              "    </tr>\n",
              "    <tr>\n",
              "      <th>102</th>\n",
              "      <td>2022-01-01 02:13:33</td>\n",
              "      <td>20.0</td>\n",
              "      <td>22.0</td>\n",
              "      <td>9.0</td>\n",
              "    </tr>\n",
              "    <tr>\n",
              "      <th>103</th>\n",
              "      <td>2022-01-01 02:14:51</td>\n",
              "      <td>18.0</td>\n",
              "      <td>12.0</td>\n",
              "      <td>27.0</td>\n",
              "    </tr>\n",
              "    <tr>\n",
              "      <th>104</th>\n",
              "      <td>2022-01-01 02:16:10</td>\n",
              "      <td>13.0</td>\n",
              "      <td>5.0</td>\n",
              "      <td>66.0</td>\n",
              "    </tr>\n",
              "  </tbody>\n",
              "</table>\n",
              "</div>\n",
              "      <button class=\"colab-df-convert\" onclick=\"convertToInteractive('df-64b5838f-3329-4980-b1ec-6de4673220ce')\"\n",
              "              title=\"Convert this dataframe to an interactive table.\"\n",
              "              style=\"display:none;\">\n",
              "        \n",
              "  <svg xmlns=\"http://www.w3.org/2000/svg\" height=\"24px\"viewBox=\"0 0 24 24\"\n",
              "       width=\"24px\">\n",
              "    <path d=\"M0 0h24v24H0V0z\" fill=\"none\"/>\n",
              "    <path d=\"M18.56 5.44l.94 2.06.94-2.06 2.06-.94-2.06-.94-.94-2.06-.94 2.06-2.06.94zm-11 1L8.5 8.5l.94-2.06 2.06-.94-2.06-.94L8.5 2.5l-.94 2.06-2.06.94zm10 10l.94 2.06.94-2.06 2.06-.94-2.06-.94-.94-2.06-.94 2.06-2.06.94z\"/><path d=\"M17.41 7.96l-1.37-1.37c-.4-.4-.92-.59-1.43-.59-.52 0-1.04.2-1.43.59L10.3 9.45l-7.72 7.72c-.78.78-.78 2.05 0 2.83L4 21.41c.39.39.9.59 1.41.59.51 0 1.02-.2 1.41-.59l7.78-7.78 2.81-2.81c.8-.78.8-2.07 0-2.86zM5.41 20L4 18.59l7.72-7.72 1.47 1.35L5.41 20z\"/>\n",
              "  </svg>\n",
              "      </button>\n",
              "      \n",
              "  <style>\n",
              "    .colab-df-container {\n",
              "      display:flex;\n",
              "      flex-wrap:wrap;\n",
              "      gap: 12px;\n",
              "    }\n",
              "\n",
              "    .colab-df-convert {\n",
              "      background-color: #E8F0FE;\n",
              "      border: none;\n",
              "      border-radius: 50%;\n",
              "      cursor: pointer;\n",
              "      display: none;\n",
              "      fill: #1967D2;\n",
              "      height: 32px;\n",
              "      padding: 0 0 0 0;\n",
              "      width: 32px;\n",
              "    }\n",
              "\n",
              "    .colab-df-convert:hover {\n",
              "      background-color: #E2EBFA;\n",
              "      box-shadow: 0px 1px 2px rgba(60, 64, 67, 0.3), 0px 1px 3px 1px rgba(60, 64, 67, 0.15);\n",
              "      fill: #174EA6;\n",
              "    }\n",
              "\n",
              "    [theme=dark] .colab-df-convert {\n",
              "      background-color: #3B4455;\n",
              "      fill: #D2E3FC;\n",
              "    }\n",
              "\n",
              "    [theme=dark] .colab-df-convert:hover {\n",
              "      background-color: #434B5C;\n",
              "      box-shadow: 0px 1px 3px 1px rgba(0, 0, 0, 0.15);\n",
              "      filter: drop-shadow(0px 1px 2px rgba(0, 0, 0, 0.3));\n",
              "      fill: #FFFFFF;\n",
              "    }\n",
              "  </style>\n",
              "\n",
              "      <script>\n",
              "        const buttonEl =\n",
              "          document.querySelector('#df-64b5838f-3329-4980-b1ec-6de4673220ce button.colab-df-convert');\n",
              "        buttonEl.style.display =\n",
              "          google.colab.kernel.accessAllowed ? 'block' : 'none';\n",
              "\n",
              "        async function convertToInteractive(key) {\n",
              "          const element = document.querySelector('#df-64b5838f-3329-4980-b1ec-6de4673220ce');\n",
              "          const dataTable =\n",
              "            await google.colab.kernel.invokeFunction('convertToInteractive',\n",
              "                                                     [key], {});\n",
              "          if (!dataTable) return;\n",
              "\n",
              "          const docLinkHtml = 'Like what you see? Visit the ' +\n",
              "            '<a target=\"_blank\" href=https://colab.research.google.com/notebooks/data_table.ipynb>data table notebook</a>'\n",
              "            + ' to learn more about interactive tables.';\n",
              "          element.innerHTML = '';\n",
              "          dataTable['output_type'] = 'display_data';\n",
              "          await google.colab.output.renderOutput(dataTable, element);\n",
              "          const docLink = document.createElement('div');\n",
              "          docLink.innerHTML = docLinkHtml;\n",
              "          element.appendChild(docLink);\n",
              "        }\n",
              "      </script>\n",
              "    </div>\n",
              "  </div>\n",
              "  "
            ]
          },
          "metadata": {},
          "execution_count": 2
        }
      ]
    },
    {
      "cell_type": "markdown",
      "source": [
        "### 1. Spočítejte procenta výher pro každého účastníka. Tj. počet aukcí, které vyhrál účastník A děleno celkový počet aukcí atd.\n"
      ],
      "metadata": {
        "id": "sl4MlprCv6YT"
      }
    },
    {
      "cell_type": "code",
      "source": [
        "winRate = df[['A','B','C']].idxmax(axis=1).value_counts()/len(df)\n",
        "winRate"
      ],
      "metadata": {
        "colab": {
          "base_uri": "https://localhost:8080/"
        },
        "id": "cU_mIV3YqTr3",
        "outputId": "5688be60-05c8-4b5f-cd28-606f5bacb342"
      },
      "execution_count": null,
      "outputs": [
        {
          "output_type": "execute_result",
          "data": {
            "text/plain": [
              "C    0.438\n",
              "A    0.319\n",
              "B    0.243\n",
              "dtype: float64"
            ]
          },
          "metadata": {},
          "execution_count": 3
        }
      ]
    },
    {
      "cell_type": "markdown",
      "source": [
        "### 2. Pro každou aukci určete cenu, kterou musel výherce zaplatit."
      ],
      "metadata": {
        "id": "GyqTU50hwDQM"
      }
    },
    {
      "cell_type": "code",
      "source": [
        "def win_amount(df):\n",
        "  winAmount = df[['A','B','C']].apply(lambda x: x.nlargest(2).iloc[1], axis=1)\n",
        "  winAmount.name = \"win_amounts\"\n",
        "  return winAmount\n",
        "\n",
        "winAmount = win_amount(df)\n",
        "winAmount"
      ],
      "metadata": {
        "colab": {
          "base_uri": "https://localhost:8080/"
        },
        "id": "mBE4Cg3puIoa",
        "outputId": "e9435724-d3ed-4f60-9048-0f20bb416244"
      },
      "execution_count": null,
      "outputs": [
        {
          "output_type": "execute_result",
          "data": {
            "text/plain": [
              "auction_id\n",
              "100     70.0\n",
              "101      7.0\n",
              "102     20.0\n",
              "103     18.0\n",
              "104     13.0\n",
              "        ... \n",
              "1095    26.0\n",
              "1096     9.0\n",
              "1097    13.0\n",
              "1098     8.0\n",
              "1099    21.0\n",
              "Name: win_amounts, Length: 1000, dtype: float64"
            ]
          },
          "metadata": {},
          "execution_count": 4
        }
      ]
    },
    {
      "cell_type": "markdown",
      "source": [
        "### 3. Jaký je celkový výnos prodejce ze všech aukcí?"
      ],
      "metadata": {
        "id": "P9PSoHJUyXah"
      }
    },
    {
      "cell_type": "code",
      "source": [
        "winAmount.sum()"
      ],
      "metadata": {
        "colab": {
          "base_uri": "https://localhost:8080/"
        },
        "id": "d805FBciyAZd",
        "outputId": "ed54e934-b953-4e1c-ede5-ee219fba85e1"
      },
      "execution_count": null,
      "outputs": [
        {
          "output_type": "execute_result",
          "data": {
            "text/plain": [
              "15297.0"
            ]
          },
          "metadata": {},
          "execution_count": 5
        }
      ]
    },
    {
      "cell_type": "markdown",
      "source": [
        "### 4. Řekněme, že z pohledu prodejce jsou ceny náhodné veličiny. Zkuste odhadnout, jakým rozdělením pravděpodobnosti se ceny řídí."
      ],
      "metadata": {
        "id": "8rc5QqXGy-DT"
      }
    },
    {
      "cell_type": "markdown",
      "source": [
        "Distribuce je z běžných rozdělení nejpodobnější Logaritmicko-normálnímu rozdělení."
      ],
      "metadata": {
        "id": "CJi7G8eGjArE"
      }
    },
    {
      "cell_type": "code",
      "source": [
        "plt.figure(figsize=(12,7))\n",
        "values = pd.concat([df_raw[df_raw['A'].notna()]['A'],\\\n",
        "                    df_raw[df_raw['B'].notna()]['B'],\\\n",
        "                    df_raw[df_raw['C'].notna()]['C']]).values #uzivam puvodni data\n",
        "f = Fitter(values, distributions=get_common_distributions())\n",
        "f.fit()\n",
        "f.summary()"
      ],
      "metadata": {
        "colab": {
          "base_uri": "https://localhost:8080/",
          "height": 617
        },
        "id": "kOTzp9Cvy1Bm",
        "outputId": "d1280bfd-a880-4ff1-a35b-e778bb2995a5"
      },
      "execution_count": null,
      "outputs": [
        {
          "output_type": "execute_result",
          "data": {
            "text/plain": [
              "          sumsquare_error          aic           bic  kl_div\n",
              "lognorm          0.000314  1711.365781 -47838.760147     inf\n",
              "chi2             0.001102  2185.796407 -44094.971329     inf\n",
              "expon            0.001524  2039.941744 -43136.159700     inf\n",
              "cauchy           0.002021  1670.639488 -42296.075550     inf\n",
              "exponpow         0.002722  2701.035638 -41400.661464     inf"
            ],
            "text/html": [
              "\n",
              "  <div id=\"df-6d302d15-e9f5-4eaf-b253-bb76c568053e\">\n",
              "    <div class=\"colab-df-container\">\n",
              "      <div>\n",
              "<style scoped>\n",
              "    .dataframe tbody tr th:only-of-type {\n",
              "        vertical-align: middle;\n",
              "    }\n",
              "\n",
              "    .dataframe tbody tr th {\n",
              "        vertical-align: top;\n",
              "    }\n",
              "\n",
              "    .dataframe thead th {\n",
              "        text-align: right;\n",
              "    }\n",
              "</style>\n",
              "<table border=\"1\" class=\"dataframe\">\n",
              "  <thead>\n",
              "    <tr style=\"text-align: right;\">\n",
              "      <th></th>\n",
              "      <th>sumsquare_error</th>\n",
              "      <th>aic</th>\n",
              "      <th>bic</th>\n",
              "      <th>kl_div</th>\n",
              "    </tr>\n",
              "  </thead>\n",
              "  <tbody>\n",
              "    <tr>\n",
              "      <th>lognorm</th>\n",
              "      <td>0.000314</td>\n",
              "      <td>1711.365781</td>\n",
              "      <td>-47838.760147</td>\n",
              "      <td>inf</td>\n",
              "    </tr>\n",
              "    <tr>\n",
              "      <th>chi2</th>\n",
              "      <td>0.001102</td>\n",
              "      <td>2185.796407</td>\n",
              "      <td>-44094.971329</td>\n",
              "      <td>inf</td>\n",
              "    </tr>\n",
              "    <tr>\n",
              "      <th>expon</th>\n",
              "      <td>0.001524</td>\n",
              "      <td>2039.941744</td>\n",
              "      <td>-43136.159700</td>\n",
              "      <td>inf</td>\n",
              "    </tr>\n",
              "    <tr>\n",
              "      <th>cauchy</th>\n",
              "      <td>0.002021</td>\n",
              "      <td>1670.639488</td>\n",
              "      <td>-42296.075550</td>\n",
              "      <td>inf</td>\n",
              "    </tr>\n",
              "    <tr>\n",
              "      <th>exponpow</th>\n",
              "      <td>0.002722</td>\n",
              "      <td>2701.035638</td>\n",
              "      <td>-41400.661464</td>\n",
              "      <td>inf</td>\n",
              "    </tr>\n",
              "  </tbody>\n",
              "</table>\n",
              "</div>\n",
              "      <button class=\"colab-df-convert\" onclick=\"convertToInteractive('df-6d302d15-e9f5-4eaf-b253-bb76c568053e')\"\n",
              "              title=\"Convert this dataframe to an interactive table.\"\n",
              "              style=\"display:none;\">\n",
              "        \n",
              "  <svg xmlns=\"http://www.w3.org/2000/svg\" height=\"24px\"viewBox=\"0 0 24 24\"\n",
              "       width=\"24px\">\n",
              "    <path d=\"M0 0h24v24H0V0z\" fill=\"none\"/>\n",
              "    <path d=\"M18.56 5.44l.94 2.06.94-2.06 2.06-.94-2.06-.94-.94-2.06-.94 2.06-2.06.94zm-11 1L8.5 8.5l.94-2.06 2.06-.94-2.06-.94L8.5 2.5l-.94 2.06-2.06.94zm10 10l.94 2.06.94-2.06 2.06-.94-2.06-.94-.94-2.06-.94 2.06-2.06.94z\"/><path d=\"M17.41 7.96l-1.37-1.37c-.4-.4-.92-.59-1.43-.59-.52 0-1.04.2-1.43.59L10.3 9.45l-7.72 7.72c-.78.78-.78 2.05 0 2.83L4 21.41c.39.39.9.59 1.41.59.51 0 1.02-.2 1.41-.59l7.78-7.78 2.81-2.81c.8-.78.8-2.07 0-2.86zM5.41 20L4 18.59l7.72-7.72 1.47 1.35L5.41 20z\"/>\n",
              "  </svg>\n",
              "      </button>\n",
              "      \n",
              "  <style>\n",
              "    .colab-df-container {\n",
              "      display:flex;\n",
              "      flex-wrap:wrap;\n",
              "      gap: 12px;\n",
              "    }\n",
              "\n",
              "    .colab-df-convert {\n",
              "      background-color: #E8F0FE;\n",
              "      border: none;\n",
              "      border-radius: 50%;\n",
              "      cursor: pointer;\n",
              "      display: none;\n",
              "      fill: #1967D2;\n",
              "      height: 32px;\n",
              "      padding: 0 0 0 0;\n",
              "      width: 32px;\n",
              "    }\n",
              "\n",
              "    .colab-df-convert:hover {\n",
              "      background-color: #E2EBFA;\n",
              "      box-shadow: 0px 1px 2px rgba(60, 64, 67, 0.3), 0px 1px 3px 1px rgba(60, 64, 67, 0.15);\n",
              "      fill: #174EA6;\n",
              "    }\n",
              "\n",
              "    [theme=dark] .colab-df-convert {\n",
              "      background-color: #3B4455;\n",
              "      fill: #D2E3FC;\n",
              "    }\n",
              "\n",
              "    [theme=dark] .colab-df-convert:hover {\n",
              "      background-color: #434B5C;\n",
              "      box-shadow: 0px 1px 3px 1px rgba(0, 0, 0, 0.15);\n",
              "      filter: drop-shadow(0px 1px 2px rgba(0, 0, 0, 0.3));\n",
              "      fill: #FFFFFF;\n",
              "    }\n",
              "  </style>\n",
              "\n",
              "      <script>\n",
              "        const buttonEl =\n",
              "          document.querySelector('#df-6d302d15-e9f5-4eaf-b253-bb76c568053e button.colab-df-convert');\n",
              "        buttonEl.style.display =\n",
              "          google.colab.kernel.accessAllowed ? 'block' : 'none';\n",
              "\n",
              "        async function convertToInteractive(key) {\n",
              "          const element = document.querySelector('#df-6d302d15-e9f5-4eaf-b253-bb76c568053e');\n",
              "          const dataTable =\n",
              "            await google.colab.kernel.invokeFunction('convertToInteractive',\n",
              "                                                     [key], {});\n",
              "          if (!dataTable) return;\n",
              "\n",
              "          const docLinkHtml = 'Like what you see? Visit the ' +\n",
              "            '<a target=\"_blank\" href=https://colab.research.google.com/notebooks/data_table.ipynb>data table notebook</a>'\n",
              "            + ' to learn more about interactive tables.';\n",
              "          element.innerHTML = '';\n",
              "          dataTable['output_type'] = 'display_data';\n",
              "          await google.colab.output.renderOutput(dataTable, element);\n",
              "          const docLink = document.createElement('div');\n",
              "          docLink.innerHTML = docLinkHtml;\n",
              "          element.appendChild(docLink);\n",
              "        }\n",
              "      </script>\n",
              "    </div>\n",
              "  </div>\n",
              "  "
            ]
          },
          "metadata": {},
          "execution_count": 6
        },
        {
          "output_type": "display_data",
          "data": {
            "text/plain": [
              "<Figure size 864x504 with 1 Axes>"
            ],
            "image/png": "[encoded data removed]"
          },
          "metadata": {
            "needs_background": "light"
          }
        }
      ]
    },
    {
      "cell_type": "markdown",
      "source": [
        "### 5. Který účastník má nejvyšší ochotu platit?"
      ],
      "metadata": {
        "id": "IC4qEPWa2tOY"
      }
    },
    {
      "cell_type": "markdown",
      "source": [
        "Ten s nejvyšší nabídkou. Snížením nabídky blíže druhému se jeho pozice nezlepší ani nezhorší a při snížení pod úroveň druhého by rovnou prohrál a svojí pozici si zhorší."
      ],
      "metadata": {
        "id": "hD739nzOY8bh"
      }
    },
    {
      "cell_type": "markdown",
      "source": [
        "### 6. Zobrazte vývoj ceny v čase (tj. ceny, kterou musel výherce zaplatit v každé aukci)."
      ],
      "metadata": {
        "id": "NK2vWY-32wo6"
      }
    },
    {
      "cell_type": "code",
      "source": [
        "df[['time']].join(winAmount).set_index('time')['win_amounts'].plot(xlabel = 'Date', ylabel = 'Win amount', figsize=(12,7))"
      ],
      "metadata": {
        "colab": {
          "base_uri": "https://localhost:8080/",
          "height": 443
        },
        "id": "xOnN51oA2xh9",
        "outputId": "ed80c828-37a8-445e-b201-3b6c31a94d70"
      },
      "execution_count": null,
      "outputs": [
        {
          "output_type": "execute_result",
          "data": {
            "text/plain": [
              "<matplotlib.axes._subplots.AxesSubplot at 0x7f91f17b2f90>"
            ]
          },
          "metadata": {},
          "execution_count": 7
        },
        {
          "output_type": "display_data",
          "data": {
            "text/plain": [
              "<Figure size 864x504 with 1 Axes>"
            ],
            "image/png": "[encoded data removed]"
          },
          "metadata": {
            "needs_background": "light"
          }
        }
      ]
    },
    {
      "cell_type": "markdown",
      "source": [
        "# Část 2 - online aukce"
      ],
      "metadata": {
        "id": "yoQ4pH4U7FZL"
      }
    },
    {
      "cell_type": "code",
      "source": [
        "df_raw2 = pd.read_csv(parent_folder+'/features_train.csv')\n",
        "df2 = df_raw2.set_index(['bidder_id','auction_id'])\n",
        "df2['time'] = pd.to_datetime(df2['time'], format='%Y-%m-%d %H:%M:%S')\n",
        "df2.describe()"
      ],
      "metadata": {
        "colab": {
          "base_uri": "https://localhost:8080/",
          "height": 300
        },
        "id": "R21cjEE02_QD",
        "outputId": "80bdd4c7-9ac9-4888-9d31-f72beddaeadd"
      },
      "execution_count": null,
      "outputs": [
        {
          "output_type": "execute_result",
          "data": {
            "text/plain": [
              "         feature_1    feature_2         prob        click\n",
              "count  2979.000000  2979.000000  2979.000000  2979.000000\n",
              "mean      1.499835     2.179218     0.311277     0.110104\n",
              "std       0.418896     0.066651     0.100115     0.313072\n",
              "min       0.676600     1.987653     0.130358     0.000000\n",
              "25%       1.065189     2.135058     0.240877     0.000000\n",
              "50%       1.497357     2.197904     0.290492     0.000000\n",
              "75%       1.924078     2.235024     0.384801     0.000000\n",
              "max       2.352646     2.271352     0.541882     1.000000"
            ],
            "text/html": [
              "\n",
              "  <div id=\"df-afcc9385-cfb7-4c30-bf61-9a3ca718d5c0\">\n",
              "    <div class=\"colab-df-container\">\n",
              "      <div>\n",
              "<style scoped>\n",
              "    .dataframe tbody tr th:only-of-type {\n",
              "        vertical-align: middle;\n",
              "    }\n",
              "\n",
              "    .dataframe tbody tr th {\n",
              "        vertical-align: top;\n",
              "    }\n",
              "\n",
              "    .dataframe thead th {\n",
              "        text-align: right;\n",
              "    }\n",
              "</style>\n",
              "<table border=\"1\" class=\"dataframe\">\n",
              "  <thead>\n",
              "    <tr style=\"text-align: right;\">\n",
              "      <th></th>\n",
              "      <th>feature_1</th>\n",
              "      <th>feature_2</th>\n",
              "      <th>prob</th>\n",
              "      <th>click</th>\n",
              "    </tr>\n",
              "  </thead>\n",
              "  <tbody>\n",
              "    <tr>\n",
              "      <th>count</th>\n",
              "      <td>2979.000000</td>\n",
              "      <td>2979.000000</td>\n",
              "      <td>2979.000000</td>\n",
              "      <td>2979.000000</td>\n",
              "    </tr>\n",
              "    <tr>\n",
              "      <th>mean</th>\n",
              "      <td>1.499835</td>\n",
              "      <td>2.179218</td>\n",
              "      <td>0.311277</td>\n",
              "      <td>0.110104</td>\n",
              "    </tr>\n",
              "    <tr>\n",
              "      <th>std</th>\n",
              "      <td>0.418896</td>\n",
              "      <td>0.066651</td>\n",
              "      <td>0.100115</td>\n",
              "      <td>0.313072</td>\n",
              "    </tr>\n",
              "    <tr>\n",
              "      <th>min</th>\n",
              "      <td>0.676600</td>\n",
              "      <td>1.987653</td>\n",
              "      <td>0.130358</td>\n",
              "      <td>0.000000</td>\n",
              "    </tr>\n",
              "    <tr>\n",
              "      <th>25%</th>\n",
              "      <td>1.065189</td>\n",
              "      <td>2.135058</td>\n",
              "      <td>0.240877</td>\n",
              "      <td>0.000000</td>\n",
              "    </tr>\n",
              "    <tr>\n",
              "      <th>50%</th>\n",
              "      <td>1.497357</td>\n",
              "      <td>2.197904</td>\n",
              "      <td>0.290492</td>\n",
              "      <td>0.000000</td>\n",
              "    </tr>\n",
              "    <tr>\n",
              "      <th>75%</th>\n",
              "      <td>1.924078</td>\n",
              "      <td>2.235024</td>\n",
              "      <td>0.384801</td>\n",
              "      <td>0.000000</td>\n",
              "    </tr>\n",
              "    <tr>\n",
              "      <th>max</th>\n",
              "      <td>2.352646</td>\n",
              "      <td>2.271352</td>\n",
              "      <td>0.541882</td>\n",
              "      <td>1.000000</td>\n",
              "    </tr>\n",
              "  </tbody>\n",
              "</table>\n",
              "</div>\n",
              "      <button class=\"colab-df-convert\" onclick=\"convertToInteractive('df-afcc9385-cfb7-4c30-bf61-9a3ca718d5c0')\"\n",
              "              title=\"Convert this dataframe to an interactive table.\"\n",
              "              style=\"display:none;\">\n",
              "        \n",
              "  <svg xmlns=\"http://www.w3.org/2000/svg\" height=\"24px\"viewBox=\"0 0 24 24\"\n",
              "       width=\"24px\">\n",
              "    <path d=\"M0 0h24v24H0V0z\" fill=\"none\"/>\n",
              "    <path d=\"M18.56 5.44l.94 2.06.94-2.06 2.06-.94-2.06-.94-.94-2.06-.94 2.06-2.06.94zm-11 1L8.5 8.5l.94-2.06 2.06-.94-2.06-.94L8.5 2.5l-.94 2.06-2.06.94zm10 10l.94 2.06.94-2.06 2.06-.94-2.06-.94-.94-2.06-.94 2.06-2.06.94z\"/><path d=\"M17.41 7.96l-1.37-1.37c-.4-.4-.92-.59-1.43-.59-.52 0-1.04.2-1.43.59L10.3 9.45l-7.72 7.72c-.78.78-.78 2.05 0 2.83L4 21.41c.39.39.9.59 1.41.59.51 0 1.02-.2 1.41-.59l7.78-7.78 2.81-2.81c.8-.78.8-2.07 0-2.86zM5.41 20L4 18.59l7.72-7.72 1.47 1.35L5.41 20z\"/>\n",
              "  </svg>\n",
              "      </button>\n",
              "      \n",
              "  <style>\n",
              "    .colab-df-container {\n",
              "      display:flex;\n",
              "      flex-wrap:wrap;\n",
              "      gap: 12px;\n",
              "    }\n",
              "\n",
              "    .colab-df-convert {\n",
              "      background-color: #E8F0FE;\n",
              "      border: none;\n",
              "      border-radius: 50%;\n",
              "      cursor: pointer;\n",
              "      display: none;\n",
              "      fill: #1967D2;\n",
              "      height: 32px;\n",
              "      padding: 0 0 0 0;\n",
              "      width: 32px;\n",
              "    }\n",
              "\n",
              "    .colab-df-convert:hover {\n",
              "      background-color: #E2EBFA;\n",
              "      box-shadow: 0px 1px 2px rgba(60, 64, 67, 0.3), 0px 1px 3px 1px rgba(60, 64, 67, 0.15);\n",
              "      fill: #174EA6;\n",
              "    }\n",
              "\n",
              "    [theme=dark] .colab-df-convert {\n",
              "      background-color: #3B4455;\n",
              "      fill: #D2E3FC;\n",
              "    }\n",
              "\n",
              "    [theme=dark] .colab-df-convert:hover {\n",
              "      background-color: #434B5C;\n",
              "      box-shadow: 0px 1px 3px 1px rgba(0, 0, 0, 0.15);\n",
              "      filter: drop-shadow(0px 1px 2px rgba(0, 0, 0, 0.3));\n",
              "      fill: #FFFFFF;\n",
              "    }\n",
              "  </style>\n",
              "\n",
              "      <script>\n",
              "        const buttonEl =\n",
              "          document.querySelector('#df-afcc9385-cfb7-4c30-bf61-9a3ca718d5c0 button.colab-df-convert');\n",
              "        buttonEl.style.display =\n",
              "          google.colab.kernel.accessAllowed ? 'block' : 'none';\n",
              "\n",
              "        async function convertToInteractive(key) {\n",
              "          const element = document.querySelector('#df-afcc9385-cfb7-4c30-bf61-9a3ca718d5c0');\n",
              "          const dataTable =\n",
              "            await google.colab.kernel.invokeFunction('convertToInteractive',\n",
              "                                                     [key], {});\n",
              "          if (!dataTable) return;\n",
              "\n",
              "          const docLinkHtml = 'Like what you see? Visit the ' +\n",
              "            '<a target=\"_blank\" href=https://colab.research.google.com/notebooks/data_table.ipynb>data table notebook</a>'\n",
              "            + ' to learn more about interactive tables.';\n",
              "          element.innerHTML = '';\n",
              "          dataTable['output_type'] = 'display_data';\n",
              "          await google.colab.output.renderOutput(dataTable, element);\n",
              "          const docLink = document.createElement('div');\n",
              "          docLink.innerHTML = docLinkHtml;\n",
              "          element.appendChild(docLink);\n",
              "        }\n",
              "      </script>\n",
              "    </div>\n",
              "  </div>\n",
              "  "
            ]
          },
          "metadata": {},
          "execution_count": 8
        }
      ]
    },
    {
      "cell_type": "markdown",
      "source": [
        "### 1. Zkuste za pomocí datové analýzy odhalit a interpretovat co zachycují faktory 1 a 2.\n"
      ],
      "metadata": {
        "id": "gsVdTNhMPGVn"
      }
    },
    {
      "cell_type": "markdown",
      "source": [
        "První faktor je vázaný ke konkrétní nabídce, druhý ke konkrétní aukci. Střední hodnota prvního faktoru se významně liší pro různé účastníky, ale není pravda, že by se s rostoucí/klesající hodnotou zvyšovala/snižovala odhadovaná pravděpodobnost. Druhý faktor silně koreluje s odhadovanou pravděpodobností prokliků. Ten by mohl být interpretován jako ohodnocení šance prokliku pro danou aukci.\n"
      ],
      "metadata": {
        "id": "Rh-ba7FaXsrP"
      }
    },
    {
      "cell_type": "code",
      "source": [
        "# Graf zavislosti prokliku na faktorech a ucastnicich\n",
        "def graph(df, xaxis='feature_1', yaxis='feature_2'):\n",
        "  for bidder in ['A','B','C']:\n",
        "    plt.scatter(df[df['bidder_id'] == bidder][df['click']==0][xaxis],\\\n",
        "                df[df['bidder_id'] == bidder][df['click']==0][yaxis])\n",
        "  plt.scatter(df[df['click']!=0][xaxis],\\\n",
        "              df[df['click']!=0][yaxis])\n",
        "  plt.legend(['A','B','C', 'Clicks'])\n",
        "  plt.xlabel(xaxis)\n",
        "  plt.ylabel(yaxis)\n",
        "\n",
        "graph(df2.reset_index())"
      ],
      "metadata": {
        "colab": {
          "base_uri": "https://localhost:8080/",
          "height": 280
        },
        "id": "q45AqvGv7l3n",
        "outputId": "2568bcbb-c568-4264-cfa1-b220b0d7c005"
      },
      "execution_count": null,
      "outputs": [
        {
          "output_type": "display_data",
          "data": {
            "text/plain": [
              "<Figure size 432x288 with 1 Axes>"
            ],
            "image/png": "[encoded data removed]"
          },
          "metadata": {
            "needs_background": "light"
          }
        }
      ]
    },
    {
      "cell_type": "code",
      "source": [
        "# V grafu je videt zavislost feature_2 na prob\n",
        "bidder = 'A'\n",
        "feat = df2.loc[bidder][['feature_1', 'feature_2', 'prob']]\n",
        "std_feat = (feat-feat.mean())/feat.std() # Normalizace hodnot\n",
        "std_feat.plot()"
      ],
      "metadata": {
        "colab": {
          "base_uri": "https://localhost:8080/",
          "height": 297
        },
        "id": "UBoowqOFPJa1",
        "outputId": "7e469312-f28d-41b6-857d-40e79e3a32b1"
      },
      "execution_count": null,
      "outputs": [
        {
          "output_type": "execute_result",
          "data": {
            "text/plain": [
              "<matplotlib.axes._subplots.AxesSubplot at 0x7f91f1cd6850>"
            ]
          },
          "metadata": {},
          "execution_count": 10
        },
        {
          "output_type": "display_data",
          "data": {
            "text/plain": [
              "<Figure size 432x288 with 1 Axes>"
            ],
            "image/png": "[encoded data removed]"
          },
          "metadata": {
            "needs_background": "light"
          }
        }
      ]
    },
    {
      "cell_type": "markdown",
      "source": [
        "### 2. Spojte tato data s daty o nabízených cenách. Pro každou aukci a každého účastníka spočítejte online bid = nabízená cena (“bid”) * odhadnutá pravděpodobnost prokliku (“prob”).\n"
      ],
      "metadata": {
        "id": "2_TayZZtPJz8"
      }
    },
    {
      "cell_type": "code",
      "source": [
        "f2 = df2.join(pd.Series(df2.index.map(lambda x: df.loc[x[1]][x[0]]), index=df2.index, name='bid'))\n",
        "f2['bid_online'] = f2['bid']*f2['prob']\n",
        "f2.head()"
      ],
      "metadata": {
        "colab": {
          "base_uri": "https://localhost:8080/",
          "height": 237
        },
        "id": "8-C5HEy4AjSw",
        "outputId": "817067cc-459e-4976-fc7c-b7f2e63db949"
      },
      "execution_count": null,
      "outputs": [
        {
          "output_type": "execute_result",
          "data": {
            "text/plain": [
              "                                    time  feature_1  feature_2      prob  \\\n",
              "bidder_id auction_id                                                       \n",
              "A         100        2022-01-01 02:10:56   1.069595   2.058711  0.174908   \n",
              "B         100        2022-01-01 02:10:56   1.988148   2.058711  0.316245   \n",
              "C         100        2022-01-01 02:10:56   1.591261   2.058711  0.167141   \n",
              "A         101        2022-01-01 02:12:14   0.926382   2.090531  0.189602   \n",
              "B         101        2022-01-01 02:12:14   1.990614   2.090531  0.344666   \n",
              "\n",
              "                      click    bid  bid_online  \n",
              "bidder_id auction_id                            \n",
              "A         100           0.0   70.0   12.243548  \n",
              "B         100           0.0   48.0   15.179772  \n",
              "C         100           0.0  105.0   17.549771  \n",
              "A         101           0.0    7.0    1.327213  \n",
              "B         101           0.0  127.0   43.772601  "
            ],
            "text/html": [
              "\n",
              "  <div id=\"df-9f0bc985-855f-4893-aa0b-29cb18abdf65\">\n",
              "    <div class=\"colab-df-container\">\n",
              "      <div>\n",
              "<style scoped>\n",
              "    .dataframe tbody tr th:only-of-type {\n",
              "        vertical-align: middle;\n",
              "    }\n",
              "\n",
              "    .dataframe tbody tr th {\n",
              "        vertical-align: top;\n",
              "    }\n",
              "\n",
              "    .dataframe thead th {\n",
              "        text-align: right;\n",
              "    }\n",
              "</style>\n",
              "<table border=\"1\" class=\"dataframe\">\n",
              "  <thead>\n",
              "    <tr style=\"text-align: right;\">\n",
              "      <th></th>\n",
              "      <th></th>\n",
              "      <th>time</th>\n",
              "      <th>feature_1</th>\n",
              "      <th>feature_2</th>\n",
              "      <th>prob</th>\n",
              "      <th>click</th>\n",
              "      <th>bid</th>\n",
              "      <th>bid_online</th>\n",
              "    </tr>\n",
              "    <tr>\n",
              "      <th>bidder_id</th>\n",
              "      <th>auction_id</th>\n",
              "      <th></th>\n",
              "      <th></th>\n",
              "      <th></th>\n",
              "      <th></th>\n",
              "      <th></th>\n",
              "      <th></th>\n",
              "      <th></th>\n",
              "    </tr>\n",
              "  </thead>\n",
              "  <tbody>\n",
              "    <tr>\n",
              "      <th>A</th>\n",
              "      <th>100</th>\n",
              "      <td>2022-01-01 02:10:56</td>\n",
              "      <td>1.069595</td>\n",
              "      <td>2.058711</td>\n",
              "      <td>0.174908</td>\n",
              "      <td>0.0</td>\n",
              "      <td>70.0</td>\n",
              "      <td>12.243548</td>\n",
              "    </tr>\n",
              "    <tr>\n",
              "      <th>B</th>\n",
              "      <th>100</th>\n",
              "      <td>2022-01-01 02:10:56</td>\n",
              "      <td>1.988148</td>\n",
              "      <td>2.058711</td>\n",
              "      <td>0.316245</td>\n",
              "      <td>0.0</td>\n",
              "      <td>48.0</td>\n",
              "      <td>15.179772</td>\n",
              "    </tr>\n",
              "    <tr>\n",
              "      <th>C</th>\n",
              "      <th>100</th>\n",
              "      <td>2022-01-01 02:10:56</td>\n",
              "      <td>1.591261</td>\n",
              "      <td>2.058711</td>\n",
              "      <td>0.167141</td>\n",
              "      <td>0.0</td>\n",
              "      <td>105.0</td>\n",
              "      <td>17.549771</td>\n",
              "    </tr>\n",
              "    <tr>\n",
              "      <th>A</th>\n",
              "      <th>101</th>\n",
              "      <td>2022-01-01 02:12:14</td>\n",
              "      <td>0.926382</td>\n",
              "      <td>2.090531</td>\n",
              "      <td>0.189602</td>\n",
              "      <td>0.0</td>\n",
              "      <td>7.0</td>\n",
              "      <td>1.327213</td>\n",
              "    </tr>\n",
              "    <tr>\n",
              "      <th>B</th>\n",
              "      <th>101</th>\n",
              "      <td>2022-01-01 02:12:14</td>\n",
              "      <td>1.990614</td>\n",
              "      <td>2.090531</td>\n",
              "      <td>0.344666</td>\n",
              "      <td>0.0</td>\n",
              "      <td>127.0</td>\n",
              "      <td>43.772601</td>\n",
              "    </tr>\n",
              "  </tbody>\n",
              "</table>\n",
              "</div>\n",
              "      <button class=\"colab-df-convert\" onclick=\"convertToInteractive('df-9f0bc985-855f-4893-aa0b-29cb18abdf65')\"\n",
              "              title=\"Convert this dataframe to an interactive table.\"\n",
              "              style=\"display:none;\">\n",
              "        \n",
              "  <svg xmlns=\"http://www.w3.org/2000/svg\" height=\"24px\"viewBox=\"0 0 24 24\"\n",
              "       width=\"24px\">\n",
              "    <path d=\"M0 0h24v24H0V0z\" fill=\"none\"/>\n",
              "    <path d=\"M18.56 5.44l.94 2.06.94-2.06 2.06-.94-2.06-.94-.94-2.06-.94 2.06-2.06.94zm-11 1L8.5 8.5l.94-2.06 2.06-.94-2.06-.94L8.5 2.5l-.94 2.06-2.06.94zm10 10l.94 2.06.94-2.06 2.06-.94-2.06-.94-.94-2.06-.94 2.06-2.06.94z\"/><path d=\"M17.41 7.96l-1.37-1.37c-.4-.4-.92-.59-1.43-.59-.52 0-1.04.2-1.43.59L10.3 9.45l-7.72 7.72c-.78.78-.78 2.05 0 2.83L4 21.41c.39.39.9.59 1.41.59.51 0 1.02-.2 1.41-.59l7.78-7.78 2.81-2.81c.8-.78.8-2.07 0-2.86zM5.41 20L4 18.59l7.72-7.72 1.47 1.35L5.41 20z\"/>\n",
              "  </svg>\n",
              "      </button>\n",
              "      \n",
              "  <style>\n",
              "    .colab-df-container {\n",
              "      display:flex;\n",
              "      flex-wrap:wrap;\n",
              "      gap: 12px;\n",
              "    }\n",
              "\n",
              "    .colab-df-convert {\n",
              "      background-color: #E8F0FE;\n",
              "      border: none;\n",
              "      border-radius: 50%;\n",
              "      cursor: pointer;\n",
              "      display: none;\n",
              "      fill: #1967D2;\n",
              "      height: 32px;\n",
              "      padding: 0 0 0 0;\n",
              "      width: 32px;\n",
              "    }\n",
              "\n",
              "    .colab-df-convert:hover {\n",
              "      background-color: #E2EBFA;\n",
              "      box-shadow: 0px 1px 2px rgba(60, 64, 67, 0.3), 0px 1px 3px 1px rgba(60, 64, 67, 0.15);\n",
              "      fill: #174EA6;\n",
              "    }\n",
              "\n",
              "    [theme=dark] .colab-df-convert {\n",
              "      background-color: #3B4455;\n",
              "      fill: #D2E3FC;\n",
              "    }\n",
              "\n",
              "    [theme=dark] .colab-df-convert:hover {\n",
              "      background-color: #434B5C;\n",
              "      box-shadow: 0px 1px 3px 1px rgba(0, 0, 0, 0.15);\n",
              "      filter: drop-shadow(0px 1px 2px rgba(0, 0, 0, 0.3));\n",
              "      fill: #FFFFFF;\n",
              "    }\n",
              "  </style>\n",
              "\n",
              "      <script>\n",
              "        const buttonEl =\n",
              "          document.querySelector('#df-9f0bc985-855f-4893-aa0b-29cb18abdf65 button.colab-df-convert');\n",
              "        buttonEl.style.display =\n",
              "          google.colab.kernel.accessAllowed ? 'block' : 'none';\n",
              "\n",
              "        async function convertToInteractive(key) {\n",
              "          const element = document.querySelector('#df-9f0bc985-855f-4893-aa0b-29cb18abdf65');\n",
              "          const dataTable =\n",
              "            await google.colab.kernel.invokeFunction('convertToInteractive',\n",
              "                                                     [key], {});\n",
              "          if (!dataTable) return;\n",
              "\n",
              "          const docLinkHtml = 'Like what you see? Visit the ' +\n",
              "            '<a target=\"_blank\" href=https://colab.research.google.com/notebooks/data_table.ipynb>data table notebook</a>'\n",
              "            + ' to learn more about interactive tables.';\n",
              "          element.innerHTML = '';\n",
              "          dataTable['output_type'] = 'display_data';\n",
              "          await google.colab.output.renderOutput(dataTable, element);\n",
              "          const docLink = document.createElement('div');\n",
              "          docLink.innerHTML = docLinkHtml;\n",
              "          element.appendChild(docLink);\n",
              "        }\n",
              "      </script>\n",
              "    </div>\n",
              "  </div>\n",
              "  "
            ]
          },
          "metadata": {},
          "execution_count": 11
        }
      ]
    },
    {
      "cell_type": "markdown",
      "source": [
        "### 3. Určete výherce každé aukce, tentokrát podle online bidu. Spočítejte, v kolika procentech případů vyhrál každý nabízející. Jak se tyto poměry změnily oproti předchozímu případu, kdy jsme uvažovali jen nabízenou cenu? Čím může být rozdíl způsoben?\n"
      ],
      "metadata": {
        "id": "9cYh6OVAlB0V"
      }
    },
    {
      "cell_type": "markdown",
      "source": [
        "Online bid zvýhodnil účastníka B, nejspíše z důvodu, že jeho predikované pravděpodobnosti prokliku jsou většinou skoro dvojnásobné než u konkurentů."
      ],
      "metadata": {
        "id": "rYOmTUHUmdT5"
      }
    },
    {
      "cell_type": "code",
      "source": [
        "max_bid_online_mask = f2.groupby('auction_id')['bid_online'].transform(max) == f2['bid_online']\n",
        "print('Dataset pouze vitezu:')\n",
        "display(f2[max_bid_online_mask].head())\n",
        "print('Procenta vyher jednotlivych ucastniku:')\n",
        "display(f2[max_bid_online_mask].reset_index()['bidder_id'].value_counts()/len(df))"
      ],
      "metadata": {
        "colab": {
          "base_uri": "https://localhost:8080/",
          "height": 342
        },
        "id": "PsZWd_LJlBiq",
        "outputId": "57a79495-e133-436e-899d-b7ef8e884b17"
      },
      "execution_count": null,
      "outputs": [
        {
          "output_type": "stream",
          "name": "stdout",
          "text": [
            "Dataset pouze vitezu:\n"
          ]
        },
        {
          "output_type": "display_data",
          "data": {
            "text/plain": [
              "                                    time  feature_1  feature_2      prob  \\\n",
              "bidder_id auction_id                                                       \n",
              "C         100        2022-01-01 02:10:56   1.591261   2.058711  0.167141   \n",
              "B         101        2022-01-01 02:12:14   1.990614   2.090531  0.344666   \n",
              "          102        2022-01-01 02:13:33   2.007467   2.083768  0.340472   \n",
              "C         103        2022-01-01 02:14:51   1.551829   2.076118  0.176485   \n",
              "          104        2022-01-01 02:16:10   1.501737   2.076457  0.175955   \n",
              "\n",
              "                      click    bid  bid_online  \n",
              "bidder_id auction_id                            \n",
              "C         100           0.0  105.0   17.549771  \n",
              "B         101           0.0  127.0   43.772601  \n",
              "          102           0.0   22.0    7.490375  \n",
              "C         103           0.0   27.0    4.765103  \n",
              "          104           0.0   66.0   11.613004  "
            ],
            "text/html": [
              "\n",
              "  <div id=\"df-0cbd5491-0a65-4467-b067-0e2f0a0e3730\">\n",
              "    <div class=\"colab-df-container\">\n",
              "      <div>\n",
              "<style scoped>\n",
              "    .dataframe tbody tr th:only-of-type {\n",
              "        vertical-align: middle;\n",
              "    }\n",
              "\n",
              "    .dataframe tbody tr th {\n",
              "        vertical-align: top;\n",
              "    }\n",
              "\n",
              "    .dataframe thead th {\n",
              "        text-align: right;\n",
              "    }\n",
              "</style>\n",
              "<table border=\"1\" class=\"dataframe\">\n",
              "  <thead>\n",
              "    <tr style=\"text-align: right;\">\n",
              "      <th></th>\n",
              "      <th></th>\n",
              "      <th>time</th>\n",
              "      <th>feature_1</th>\n",
              "      <th>feature_2</th>\n",
              "      <th>prob</th>\n",
              "      <th>click</th>\n",
              "      <th>bid</th>\n",
              "      <th>bid_online</th>\n",
              "    </tr>\n",
              "    <tr>\n",
              "      <th>bidder_id</th>\n",
              "      <th>auction_id</th>\n",
              "      <th></th>\n",
              "      <th></th>\n",
              "      <th></th>\n",
              "      <th></th>\n",
              "      <th></th>\n",
              "      <th></th>\n",
              "      <th></th>\n",
              "    </tr>\n",
              "  </thead>\n",
              "  <tbody>\n",
              "    <tr>\n",
              "      <th>C</th>\n",
              "      <th>100</th>\n",
              "      <td>2022-01-01 02:10:56</td>\n",
              "      <td>1.591261</td>\n",
              "      <td>2.058711</td>\n",
              "      <td>0.167141</td>\n",
              "      <td>0.0</td>\n",
              "      <td>105.0</td>\n",
              "      <td>17.549771</td>\n",
              "    </tr>\n",
              "    <tr>\n",
              "      <th rowspan=\"2\" valign=\"top\">B</th>\n",
              "      <th>101</th>\n",
              "      <td>2022-01-01 02:12:14</td>\n",
              "      <td>1.990614</td>\n",
              "      <td>2.090531</td>\n",
              "      <td>0.344666</td>\n",
              "      <td>0.0</td>\n",
              "      <td>127.0</td>\n",
              "      <td>43.772601</td>\n",
              "    </tr>\n",
              "    <tr>\n",
              "      <th>102</th>\n",
              "      <td>2022-01-01 02:13:33</td>\n",
              "      <td>2.007467</td>\n",
              "      <td>2.083768</td>\n",
              "      <td>0.340472</td>\n",
              "      <td>0.0</td>\n",
              "      <td>22.0</td>\n",
              "      <td>7.490375</td>\n",
              "    </tr>\n",
              "    <tr>\n",
              "      <th rowspan=\"2\" valign=\"top\">C</th>\n",
              "      <th>103</th>\n",
              "      <td>2022-01-01 02:14:51</td>\n",
              "      <td>1.551829</td>\n",
              "      <td>2.076118</td>\n",
              "      <td>0.176485</td>\n",
              "      <td>0.0</td>\n",
              "      <td>27.0</td>\n",
              "      <td>4.765103</td>\n",
              "    </tr>\n",
              "    <tr>\n",
              "      <th>104</th>\n",
              "      <td>2022-01-01 02:16:10</td>\n",
              "      <td>1.501737</td>\n",
              "      <td>2.076457</td>\n",
              "      <td>0.175955</td>\n",
              "      <td>0.0</td>\n",
              "      <td>66.0</td>\n",
              "      <td>11.613004</td>\n",
              "    </tr>\n",
              "  </tbody>\n",
              "</table>\n",
              "</div>\n",
              "      <button class=\"colab-df-convert\" onclick=\"convertToInteractive('df-0cbd5491-0a65-4467-b067-0e2f0a0e3730')\"\n",
              "              title=\"Convert this dataframe to an interactive table.\"\n",
              "              style=\"display:none;\">\n",
              "        \n",
              "  <svg xmlns=\"http://www.w3.org/2000/svg\" height=\"24px\"viewBox=\"0 0 24 24\"\n",
              "       width=\"24px\">\n",
              "    <path d=\"M0 0h24v24H0V0z\" fill=\"none\"/>\n",
              "    <path d=\"M18.56 5.44l.94 2.06.94-2.06 2.06-.94-2.06-.94-.94-2.06-.94 2.06-2.06.94zm-11 1L8.5 8.5l.94-2.06 2.06-.94-2.06-.94L8.5 2.5l-.94 2.06-2.06.94zm10 10l.94 2.06.94-2.06 2.06-.94-2.06-.94-.94-2.06-.94 2.06-2.06.94z\"/><path d=\"M17.41 7.96l-1.37-1.37c-.4-.4-.92-.59-1.43-.59-.52 0-1.04.2-1.43.59L10.3 9.45l-7.72 7.72c-.78.78-.78 2.05 0 2.83L4 21.41c.39.39.9.59 1.41.59.51 0 1.02-.2 1.41-.59l7.78-7.78 2.81-2.81c.8-.78.8-2.07 0-2.86zM5.41 20L4 18.59l7.72-7.72 1.47 1.35L5.41 20z\"/>\n",
              "  </svg>\n",
              "      </button>\n",
              "      \n",
              "  <style>\n",
              "    .colab-df-container {\n",
              "      display:flex;\n",
              "      flex-wrap:wrap;\n",
              "      gap: 12px;\n",
              "    }\n",
              "\n",
              "    .colab-df-convert {\n",
              "      background-color: #E8F0FE;\n",
              "      border: none;\n",
              "      border-radius: 50%;\n",
              "      cursor: pointer;\n",
              "      display: none;\n",
              "      fill: #1967D2;\n",
              "      height: 32px;\n",
              "      padding: 0 0 0 0;\n",
              "      width: 32px;\n",
              "    }\n",
              "\n",
              "    .colab-df-convert:hover {\n",
              "      background-color: #E2EBFA;\n",
              "      box-shadow: 0px 1px 2px rgba(60, 64, 67, 0.3), 0px 1px 3px 1px rgba(60, 64, 67, 0.15);\n",
              "      fill: #174EA6;\n",
              "    }\n",
              "\n",
              "    [theme=dark] .colab-df-convert {\n",
              "      background-color: #3B4455;\n",
              "      fill: #D2E3FC;\n",
              "    }\n",
              "\n",
              "    [theme=dark] .colab-df-convert:hover {\n",
              "      background-color: #434B5C;\n",
              "      box-shadow: 0px 1px 3px 1px rgba(0, 0, 0, 0.15);\n",
              "      filter: drop-shadow(0px 1px 2px rgba(0, 0, 0, 0.3));\n",
              "      fill: #FFFFFF;\n",
              "    }\n",
              "  </style>\n",
              "\n",
              "      <script>\n",
              "        const buttonEl =\n",
              "          document.querySelector('#df-0cbd5491-0a65-4467-b067-0e2f0a0e3730 button.colab-df-convert');\n",
              "        buttonEl.style.display =\n",
              "          google.colab.kernel.accessAllowed ? 'block' : 'none';\n",
              "\n",
              "        async function convertToInteractive(key) {\n",
              "          const element = document.querySelector('#df-0cbd5491-0a65-4467-b067-0e2f0a0e3730');\n",
              "          const dataTable =\n",
              "            await google.colab.kernel.invokeFunction('convertToInteractive',\n",
              "                                                     [key], {});\n",
              "          if (!dataTable) return;\n",
              "\n",
              "          const docLinkHtml = 'Like what you see? Visit the ' +\n",
              "            '<a target=\"_blank\" href=https://colab.research.google.com/notebooks/data_table.ipynb>data table notebook</a>'\n",
              "            + ' to learn more about interactive tables.';\n",
              "          element.innerHTML = '';\n",
              "          dataTable['output_type'] = 'display_data';\n",
              "          await google.colab.output.renderOutput(dataTable, element);\n",
              "          const docLink = document.createElement('div');\n",
              "          docLink.innerHTML = docLinkHtml;\n",
              "          element.appendChild(docLink);\n",
              "        }\n",
              "      </script>\n",
              "    </div>\n",
              "  </div>\n",
              "  "
            ]
          },
          "metadata": {}
        },
        {
          "output_type": "stream",
          "name": "stdout",
          "text": [
            "Procenta vyher jednotlivych ucastniku:\n"
          ]
        },
        {
          "output_type": "display_data",
          "data": {
            "text/plain": [
              "B    0.423\n",
              "C    0.337\n",
              "A    0.240\n",
              "Name: bidder_id, dtype: float64"
            ]
          },
          "metadata": {}
        }
      ]
    },
    {
      "cell_type": "markdown",
      "source": [
        "### 4. V online aukcích se cena, kterou má zaplatit výherce aukce, počítá podle následujícího pravidla:\n",
        "p.p. = odhadnutá pravděpodobnost prokliku\n",
        "\n",
        "konečná cena za proklik = p.p. druhého v pořadí děleno p.p. prvního v pořadí krát nabízená cena druhého\n",
        "\n",
        "Tuto cenu platí výherce pouze tehdy, pokud získal i klik. Můžete si všimnout, že\n",
        "finální cena nezávisí na nabízené ceně daného inzerenta."
      ],
      "metadata": {
        "id": "FKLHEeIpptbK"
      }
    },
    {
      "cell_type": "code",
      "source": [
        "# Vitezove aukci a castka kterou plati pokud dostanou klik\n",
        "def find_winners(f2, df, max_bid_online_mask):\n",
        "  winners = f2[max_bid_online_mask].copy(deep=True) #Vitezove aukce \n",
        "  second = f2[~max_bid_online_mask]\n",
        "  second_bid_online_mask = second.groupby('auction_id')['bid_online'].transform(max) == second['bid_online']\n",
        "  second = second[second_bid_online_mask].droplevel(0) #Druzi v aukci\n",
        "  second_bid = df.join(second['bid_online']).fillna(0)['bid_online'] # Když nikdo druhý nedá nabídku, tak předpokládám 0\n",
        "  winners['bid_actual'] = second_bid / winners['prob'] #(bid*2nd_prob)/1st_prob\n",
        "  return winners\n",
        "\n",
        "winners = find_winners(f2, df, max_bid_online_mask)\n",
        "winners.head()"
      ],
      "metadata": {
        "colab": {
          "base_uri": "https://localhost:8080/",
          "height": 237
        },
        "id": "NgFvtZhO7Z_w",
        "outputId": "8a6233e7-8ad1-435f-fec3-e52279271aa2"
      },
      "execution_count": null,
      "outputs": [
        {
          "output_type": "execute_result",
          "data": {
            "text/plain": [
              "                                    time  feature_1  feature_2      prob  \\\n",
              "bidder_id auction_id                                                       \n",
              "C         100        2022-01-01 02:10:56   1.591261   2.058711  0.167141   \n",
              "B         101        2022-01-01 02:12:14   1.990614   2.090531  0.344666   \n",
              "          102        2022-01-01 02:13:33   2.007467   2.083768  0.340472   \n",
              "C         103        2022-01-01 02:14:51   1.551829   2.076118  0.176485   \n",
              "          104        2022-01-01 02:16:10   1.501737   2.076457  0.175955   \n",
              "\n",
              "                      click    bid  bid_online  bid_actual  \n",
              "bidder_id auction_id                                        \n",
              "C         100           0.0  105.0   17.549771   90.820339  \n",
              "B         101           0.0  127.0   43.772601    3.850721  \n",
              "          102           0.0   22.0    7.490375   11.154779  \n",
              "C         103           0.0   27.0    4.765103   22.621135  \n",
              "          104           0.0   66.0   11.613004   13.943227  "
            ],
            "text/html": [
              "\n",
              "  <div id=\"df-59e6d2f6-7e13-4fac-a71b-ae34982438d0\">\n",
              "    <div class=\"colab-df-container\">\n",
              "      <div>\n",
              "<style scoped>\n",
              "    .dataframe tbody tr th:only-of-type {\n",
              "        vertical-align: middle;\n",
              "    }\n",
              "\n",
              "    .dataframe tbody tr th {\n",
              "        vertical-align: top;\n",
              "    }\n",
              "\n",
              "    .dataframe thead th {\n",
              "        text-align: right;\n",
              "    }\n",
              "</style>\n",
              "<table border=\"1\" class=\"dataframe\">\n",
              "  <thead>\n",
              "    <tr style=\"text-align: right;\">\n",
              "      <th></th>\n",
              "      <th></th>\n",
              "      <th>time</th>\n",
              "      <th>feature_1</th>\n",
              "      <th>feature_2</th>\n",
              "      <th>prob</th>\n",
              "      <th>click</th>\n",
              "      <th>bid</th>\n",
              "      <th>bid_online</th>\n",
              "      <th>bid_actual</th>\n",
              "    </tr>\n",
              "    <tr>\n",
              "      <th>bidder_id</th>\n",
              "      <th>auction_id</th>\n",
              "      <th></th>\n",
              "      <th></th>\n",
              "      <th></th>\n",
              "      <th></th>\n",
              "      <th></th>\n",
              "      <th></th>\n",
              "      <th></th>\n",
              "      <th></th>\n",
              "    </tr>\n",
              "  </thead>\n",
              "  <tbody>\n",
              "    <tr>\n",
              "      <th>C</th>\n",
              "      <th>100</th>\n",
              "      <td>2022-01-01 02:10:56</td>\n",
              "      <td>1.591261</td>\n",
              "      <td>2.058711</td>\n",
              "      <td>0.167141</td>\n",
              "      <td>0.0</td>\n",
              "      <td>105.0</td>\n",
              "      <td>17.549771</td>\n",
              "      <td>90.820339</td>\n",
              "    </tr>\n",
              "    <tr>\n",
              "      <th rowspan=\"2\" valign=\"top\">B</th>\n",
              "      <th>101</th>\n",
              "      <td>2022-01-01 02:12:14</td>\n",
              "      <td>1.990614</td>\n",
              "      <td>2.090531</td>\n",
              "      <td>0.344666</td>\n",
              "      <td>0.0</td>\n",
              "      <td>127.0</td>\n",
              "      <td>43.772601</td>\n",
              "      <td>3.850721</td>\n",
              "    </tr>\n",
              "    <tr>\n",
              "      <th>102</th>\n",
              "      <td>2022-01-01 02:13:33</td>\n",
              "      <td>2.007467</td>\n",
              "      <td>2.083768</td>\n",
              "      <td>0.340472</td>\n",
              "      <td>0.0</td>\n",
              "      <td>22.0</td>\n",
              "      <td>7.490375</td>\n",
              "      <td>11.154779</td>\n",
              "    </tr>\n",
              "    <tr>\n",
              "      <th rowspan=\"2\" valign=\"top\">C</th>\n",
              "      <th>103</th>\n",
              "      <td>2022-01-01 02:14:51</td>\n",
              "      <td>1.551829</td>\n",
              "      <td>2.076118</td>\n",
              "      <td>0.176485</td>\n",
              "      <td>0.0</td>\n",
              "      <td>27.0</td>\n",
              "      <td>4.765103</td>\n",
              "      <td>22.621135</td>\n",
              "    </tr>\n",
              "    <tr>\n",
              "      <th>104</th>\n",
              "      <td>2022-01-01 02:16:10</td>\n",
              "      <td>1.501737</td>\n",
              "      <td>2.076457</td>\n",
              "      <td>0.175955</td>\n",
              "      <td>0.0</td>\n",
              "      <td>66.0</td>\n",
              "      <td>11.613004</td>\n",
              "      <td>13.943227</td>\n",
              "    </tr>\n",
              "  </tbody>\n",
              "</table>\n",
              "</div>\n",
              "      <button class=\"colab-df-convert\" onclick=\"convertToInteractive('df-59e6d2f6-7e13-4fac-a71b-ae34982438d0')\"\n",
              "              title=\"Convert this dataframe to an interactive table.\"\n",
              "              style=\"display:none;\">\n",
              "        \n",
              "  <svg xmlns=\"http://www.w3.org/2000/svg\" height=\"24px\"viewBox=\"0 0 24 24\"\n",
              "       width=\"24px\">\n",
              "    <path d=\"M0 0h24v24H0V0z\" fill=\"none\"/>\n",
              "    <path d=\"M18.56 5.44l.94 2.06.94-2.06 2.06-.94-2.06-.94-.94-2.06-.94 2.06-2.06.94zm-11 1L8.5 8.5l.94-2.06 2.06-.94-2.06-.94L8.5 2.5l-.94 2.06-2.06.94zm10 10l.94 2.06.94-2.06 2.06-.94-2.06-.94-.94-2.06-.94 2.06-2.06.94z\"/><path d=\"M17.41 7.96l-1.37-1.37c-.4-.4-.92-.59-1.43-.59-.52 0-1.04.2-1.43.59L10.3 9.45l-7.72 7.72c-.78.78-.78 2.05 0 2.83L4 21.41c.39.39.9.59 1.41.59.51 0 1.02-.2 1.41-.59l7.78-7.78 2.81-2.81c.8-.78.8-2.07 0-2.86zM5.41 20L4 18.59l7.72-7.72 1.47 1.35L5.41 20z\"/>\n",
              "  </svg>\n",
              "      </button>\n",
              "      \n",
              "  <style>\n",
              "    .colab-df-container {\n",
              "      display:flex;\n",
              "      flex-wrap:wrap;\n",
              "      gap: 12px;\n",
              "    }\n",
              "\n",
              "    .colab-df-convert {\n",
              "      background-color: #E8F0FE;\n",
              "      border: none;\n",
              "      border-radius: 50%;\n",
              "      cursor: pointer;\n",
              "      display: none;\n",
              "      fill: #1967D2;\n",
              "      height: 32px;\n",
              "      padding: 0 0 0 0;\n",
              "      width: 32px;\n",
              "    }\n",
              "\n",
              "    .colab-df-convert:hover {\n",
              "      background-color: #E2EBFA;\n",
              "      box-shadow: 0px 1px 2px rgba(60, 64, 67, 0.3), 0px 1px 3px 1px rgba(60, 64, 67, 0.15);\n",
              "      fill: #174EA6;\n",
              "    }\n",
              "\n",
              "    [theme=dark] .colab-df-convert {\n",
              "      background-color: #3B4455;\n",
              "      fill: #D2E3FC;\n",
              "    }\n",
              "\n",
              "    [theme=dark] .colab-df-convert:hover {\n",
              "      background-color: #434B5C;\n",
              "      box-shadow: 0px 1px 3px 1px rgba(0, 0, 0, 0.15);\n",
              "      filter: drop-shadow(0px 1px 2px rgba(0, 0, 0, 0.3));\n",
              "      fill: #FFFFFF;\n",
              "    }\n",
              "  </style>\n",
              "\n",
              "      <script>\n",
              "        const buttonEl =\n",
              "          document.querySelector('#df-59e6d2f6-7e13-4fac-a71b-ae34982438d0 button.colab-df-convert');\n",
              "        buttonEl.style.display =\n",
              "          google.colab.kernel.accessAllowed ? 'block' : 'none';\n",
              "\n",
              "        async function convertToInteractive(key) {\n",
              "          const element = document.querySelector('#df-59e6d2f6-7e13-4fac-a71b-ae34982438d0');\n",
              "          const dataTable =\n",
              "            await google.colab.kernel.invokeFunction('convertToInteractive',\n",
              "                                                     [key], {});\n",
              "          if (!dataTable) return;\n",
              "\n",
              "          const docLinkHtml = 'Like what you see? Visit the ' +\n",
              "            '<a target=\"_blank\" href=https://colab.research.google.com/notebooks/data_table.ipynb>data table notebook</a>'\n",
              "            + ' to learn more about interactive tables.';\n",
              "          element.innerHTML = '';\n",
              "          dataTable['output_type'] = 'display_data';\n",
              "          await google.colab.output.renderOutput(dataTable, element);\n",
              "          const docLink = document.createElement('div');\n",
              "          docLink.innerHTML = docLinkHtml;\n",
              "          element.appendChild(docLink);\n",
              "        }\n",
              "      </script>\n",
              "    </div>\n",
              "  </div>\n",
              "  "
            ]
          },
          "metadata": {},
          "execution_count": 13
        }
      ]
    },
    {
      "cell_type": "markdown",
      "source": [
        "### 5. Spočítejte celkový výnos z aukce.\n"
      ],
      "metadata": {
        "id": "vLKZacOquA4y"
      }
    },
    {
      "cell_type": "code",
      "source": [
        "winners[winners['click']!=0]['bid_actual'].sum()"
      ],
      "metadata": {
        "colab": {
          "base_uri": "https://localhost:8080/"
        },
        "id": "f8DVKKODb08q",
        "outputId": "01da0bb5-f676-4f7d-be6c-2f20acff0920"
      },
      "execution_count": null,
      "outputs": [
        {
          "output_type": "execute_result",
          "data": {
            "text/plain": [
              "4756.691573120195"
            ]
          },
          "metadata": {},
          "execution_count": 14
        }
      ]
    },
    {
      "cell_type": "markdown",
      "source": [
        "# Část 3 - model"
      ],
      "metadata": {
        "id": "_Er5MhEc6SU9"
      }
    },
    {
      "cell_type": "code",
      "source": [
        "def normalize(data, columns = None, validation = None):\n",
        "  dt = data.copy()\n",
        "  standard_scaler = preprocessing.StandardScaler()\n",
        "  if columns == None:\n",
        "    columns = dt.select_dtypes(include=['float64']).columns \n",
        "  standard_scaler.fit(dt[columns])\n",
        "  dt[columns] = standard_scaler.transform(dt[columns])\n",
        "  \n",
        "  if validation is not None:\n",
        "    dv = validation.copy()\n",
        "    dv[columns] = standard_scaler.transform(dv[columns])\n",
        "    return dt, dv\n",
        "  return dt\n",
        "\n",
        "def undersampling(X,y):\n",
        "  return TomekLinks().fit_resample(X, y)\n",
        "\n",
        "def oversampling(X,y):\n",
        "  return BorderlineSMOTE(random_state=random_state).fit_resample(X, y)"
      ],
      "metadata": {
        "id": "4EQYlmQQ6Bd6"
      },
      "execution_count": null,
      "outputs": []
    },
    {
      "cell_type": "markdown",
      "source": [
        "### 1. Formulujte a odhadněte vlastní model, který bude predikovat pravděpodobnost, zda návštěvník internetové stránky klikne na reklamu (target variable je sloupeček “click”). Reportujte údaje o modelu. Jakou lze očekávat chybu modelu?\n"
      ],
      "metadata": {
        "id": "TaSex45M6ZVw"
      }
    },
    {
      "cell_type": "markdown",
      "source": [
        "Pro model jsem zvolil logistickou regresi, mimo jiné pro možnost z ni extrahovat vypočtené pravděpodobnosti klasifikace. Pro predikci používám sloupce \"feature_2\" a \"bidder_id\", protože pořád pracuju se stejnými účastníky aukce. Jednotlivé účastníky jsem reprezentoval v one-hot kódování. Nimi jsem nahradil sloupec \"feature_1\", který nepřidával při predikci významnou hodnotu. Sloupec \"prob\" jsem samozřejmě nepoužil, protože danou hodnotu se snažím predikovat. \n",
        "\n",
        "Ve výchozím stavu vracel model pro všechny vstupy velmi malé a velmi podobné pravděpodobnosti (\\<0.3). Proto jsem se rozhodl minoritní třídě pomoci samplingem. Zvolil jsem Borderline SMOTE pro upsampling, a poté Tomek Links na undersampling. \n",
        "\n",
        "Tím jsem získal vyrovnanější dataset. Na stejné hranici pravděpodobnostní hodnoty se většinou zhoršila přesnost (accuracy) predikce a počet falešně pozitivních klasifikací, ale zvýšila se Log Loss a počet skutečně pozitivních klasifikací, kterých je nyní přibližně stejně jako falešných negativních klasifikací. Stejné porovnání je i s pravděpodobnostmi sloupce \"prob\" původního datasetu. \n",
        "\n",
        "Z ROC křivek ale vidím, že upsampling jen přeškáloval hodnoty pravděpodobností na rozmanitější hodnoty. Křivka modelu zůstala víceméně stejná.\n",
        "\n",
        "Zvolené hodnoty chyby modelu (matice záměn, log loss, accuracy, ROC) jsou naměřené níže, pro predikované pravděpodobnosti a pro sloupec \"prob\" původního datasetu.\n"
      ],
      "metadata": {
        "id": "P1TKLDqZItJ0"
      }
    },
    {
      "cell_type": "code",
      "source": [
        "# Priprava trenovaciho datasetu\n",
        "random_state=42\n",
        "def preprocess_dataset(df, train=True):\n",
        "  if train:\n",
        "    y = df[['click', 'prob']].copy(deep=True)\n",
        "    X = df.drop(columns={'click', 'prob', 'time',\t'auction_id'}).copy(deep=True)\n",
        "  else:\n",
        "    y = df[['click']].copy(deep=True)\n",
        "    X = df.drop(columns={'click', 'time',\t'auction_id'}).copy(deep=True)\n",
        "  y.click = y['click'] > 0\n",
        "  X = X.join(pd.get_dummies(X['bidder_id']))\n",
        "  X = X.drop(columns={'bidder_id','feature_1'})\n",
        "  return X, y\n",
        "\n",
        "X, y = preprocess_dataset(df_raw2)"
      ],
      "metadata": {
        "id": "gQGSdsum6bN5"
      },
      "execution_count": null,
      "outputs": []
    },
    {
      "cell_type": "code",
      "source": [
        "# Deleni trenovaciho datasetu na validacni a sampling\n",
        "def sampling(X,y):\n",
        "  X, y = oversampling(X,y)\n",
        "  X, y = undersampling(X,y)\n",
        "  return X, y\n",
        "\n",
        "X_train, X_test, y_train, y_test = train_test_split(normalize(X), y, test_size=.3, random_state=random_state)\n",
        "y_train = y_train['click']\n",
        "X_train, y_train = sampling(X_train,y_train)"
      ],
      "metadata": {
        "id": "dvLQdmy5H5Hp"
      },
      "execution_count": null,
      "outputs": []
    },
    {
      "cell_type": "code",
      "source": [
        "# Predikce modelem\n",
        "clf = LogisticRegression(random_state=random_state).fit(X_train, y_train)\n",
        "y_pred = pd.DataFrame(clf.predict_proba(X_test), index=y_test.index)[1]"
      ],
      "metadata": {
        "id": "IjJMU8OGn0NP"
      },
      "execution_count": null,
      "outputs": []
    },
    {
      "cell_type": "code",
      "source": [
        "# Hodnoty metrik pro vystup modelu\n",
        "print('Odhadnute parametry logistickou regresi:\\n', clf.intercept_, clf.coef_)\n",
        "print('Matice zamen:\\n', confusion_matrix(y_test['click'], y_pred > 0.5))\n",
        "print('Log loss:\\n', log_loss(y_test['click'], y_pred))\n",
        "print('Accuracy:\\n', accuracy_score(y_test['click'], y_pred > 0.5))\n",
        "print('Graf zavislosti predikovane pravdepodobnosti prokliku na feature_2:\\n')\n",
        "graph(df_raw2.join(y_pred.rename('new_prob'), how='right'),'new_prob')\n"
      ],
      "metadata": {
        "colab": {
          "base_uri": "https://localhost:8080/",
          "height": 471
        },
        "id": "Xv-mqS_4H9fl",
        "outputId": "23878c3a-078c-46cd-d307-62cd48991f49"
      },
      "execution_count": null,
      "outputs": [
        {
          "output_type": "stream",
          "name": "stdout",
          "text": [
            "Odhadnute parametry logistickou regresi:\n",
            " [-0.63649318] [[ 0.47605095 -1.09077882  1.17269844 -0.08119018]]\n",
            "Matice zamen:\n",
            " [[598 203]\n",
            " [ 51  42]]\n",
            "Log loss:\n",
            " 0.5523590656003462\n",
            "Accuracy:\n",
            " 0.7158836689038032\n",
            "Graf zavislosti predikovane pravdepodobnosti prokliku na feature_2:\n",
            "\n"
          ]
        },
        {
          "output_type": "display_data",
          "data": {
            "text/plain": [
              "<Figure size 432x288 with 1 Axes>"
            ],
            "image/png": "[encoded data removed]"
          },
          "metadata": {
            "needs_background": "light"
          }
        }
      ]
    },
    {
      "cell_type": "code",
      "source": [
        "# Hodnoty metrik pro sloupec \"prob\" puvodniho datasetu\n",
        "print('Metriky pro sloupec \"prob\" z puvodniho datasetu:')\n",
        "print('Matice zamen:\\n', confusion_matrix(y_test['click'], y_test['prob'] > 0.5))\n",
        "print('Log loss:\\n', log_loss(y_test['click'], y_test['prob']))\n",
        "print('Accuracy:\\n', accuracy_score(y_test['click'], y_test['prob'] > 0.5))"
      ],
      "metadata": {
        "colab": {
          "base_uri": "https://localhost:8080/"
        },
        "id": "mSfRprZYn1WN",
        "outputId": "2c8eee6e-aeec-4c84-8bbe-1b5d26bd3499"
      },
      "execution_count": null,
      "outputs": [
        {
          "output_type": "stream",
          "name": "stdout",
          "text": [
            "Metriky pro sloupec \"prob\" z puvodniho datasetu:\n",
            "Matice zamen:\n",
            " [[773  28]\n",
            " [ 86   7]]\n",
            "Log loss:\n",
            " 0.44650969423811987\n",
            "Accuracy:\n",
            " 0.87248322147651\n"
          ]
        }
      ]
    },
    {
      "cell_type": "code",
      "source": [
        "# Z ROC krivek je videt ze upsampling ale model vicemene jen preskaloval \n",
        "# a krivky jsou podobne\n",
        "from sklearn.metrics import roc_curve, auc\n",
        "def roc(real, pred):\n",
        "  fpr, tpr, _ = roc_curve(real, pred)\n",
        "  roc_auc = auc(fpr, tpr)\n",
        "  plt.figure(figsize=(10,5))\n",
        "  plt.plot(fpr, tpr, color=\"orange\")\n",
        "  plt.plot([0, 1], [0, 1], color=\"navy\", linestyle=\"--\")\n",
        "  plt.xlim([0.0, 1.0])\n",
        "  plt.ylim([0.0, 1.05])\n",
        "  plt.xlabel(\"False Positive Rate\")\n",
        "  plt.ylabel(\"True Positive Rate\")\n",
        "  plt.title(\"ROC curve (area = %0.2f)\" % roc_auc)\n",
        "  plt.show()\n",
        "  return fpr, tpr\n",
        "  \n",
        "print('My model probability:')\n",
        "roc(y_test['click'], y_test['prob'])\n",
        "print(\"'prob' column probability:\")\n",
        "fpr, tpr = roc(y_test['click'], y_pred)"
      ],
      "metadata": {
        "colab": {
          "base_uri": "https://localhost:8080/",
          "height": 718
        },
        "id": "9-Vbz3ekpQtJ",
        "outputId": "d82581b5-da31-4e7f-8d8b-ced2ea55e662"
      },
      "execution_count": null,
      "outputs": [
        {
          "output_type": "stream",
          "name": "stdout",
          "text": [
            "My model probability:\n"
          ]
        },
        {
          "output_type": "display_data",
          "data": {
            "text/plain": [
              "<Figure size 720x360 with 1 Axes>"
            ],
            "image/png": "[encoded data removed]"
          },
          "metadata": {
            "needs_background": "light"
          }
        },
        {
          "output_type": "stream",
          "name": "stdout",
          "text": [
            "'prob' column probability:\n"
          ]
        },
        {
          "output_type": "display_data",
          "data": {
            "text/plain": [
              "<Figure size 720x360 with 1 Axes>"
            ],
            "image/png": "[encoded data removed]"
          },
          "metadata": {
            "needs_background": "light"
          }
        }
      ]
    },
    {
      "cell_type": "markdown",
      "source": [
        "### 2. Načtěte soubory “bids_test.csv” a “features_test.csv”, které obsahují podobná data, nicméně tentokrát bez odhadnutých pravděpodobností prokliku.\n"
      ],
      "metadata": {
        "id": "O1Op7JMmMugG"
      }
    },
    {
      "cell_type": "code",
      "source": [
        "# Nacteni dat, vsechny features jsou 10 nasobne proti train datech, predpokladam\n",
        "# ze je chyba v datech a opravim\n",
        "df_test_raw = pd.read_csv(parent_folder+'/bids_test.csv')\n",
        "df_test_raw2 = pd.read_csv(parent_folder+'/features_test.csv')\n",
        "df_test_modified2 = df_test_raw2.copy(deep=True)\n",
        "df_test_modified2['feature_1'] /= 10\n",
        "df_test_modified2['feature_2'] /= 10\n",
        "df_test_modified2.describe()[:3]"
      ],
      "metadata": {
        "colab": {
          "base_uri": "https://localhost:8080/",
          "height": 143
        },
        "id": "ct_o9Vl_HUvl",
        "outputId": "7d11ac88-744e-449f-e5af-826af687da73"
      },
      "execution_count": null,
      "outputs": [
        {
          "output_type": "execute_result",
          "data": {
            "text/plain": [
              "       auction_id   feature_1   feature_2      click\n",
              "count   299.00000  299.000000  299.000000  299.00000\n",
              "mean     49.61204    1.509378    2.042625    0.09699\n",
              "std      28.89747    0.415712    0.026171    0.29644"
            ],
            "text/html": [
              "\n",
              "  <div id=\"df-a1164c6d-88f8-4b6c-b64c-ce1df6d7f2b5\">\n",
              "    <div class=\"colab-df-container\">\n",
              "      <div>\n",
              "<style scoped>\n",
              "    .dataframe tbody tr th:only-of-type {\n",
              "        vertical-align: middle;\n",
              "    }\n",
              "\n",
              "    .dataframe tbody tr th {\n",
              "        vertical-align: top;\n",
              "    }\n",
              "\n",
              "    .dataframe thead th {\n",
              "        text-align: right;\n",
              "    }\n",
              "</style>\n",
              "<table border=\"1\" class=\"dataframe\">\n",
              "  <thead>\n",
              "    <tr style=\"text-align: right;\">\n",
              "      <th></th>\n",
              "      <th>auction_id</th>\n",
              "      <th>feature_1</th>\n",
              "      <th>feature_2</th>\n",
              "      <th>click</th>\n",
              "    </tr>\n",
              "  </thead>\n",
              "  <tbody>\n",
              "    <tr>\n",
              "      <th>count</th>\n",
              "      <td>299.00000</td>\n",
              "      <td>299.000000</td>\n",
              "      <td>299.000000</td>\n",
              "      <td>299.00000</td>\n",
              "    </tr>\n",
              "    <tr>\n",
              "      <th>mean</th>\n",
              "      <td>49.61204</td>\n",
              "      <td>1.509378</td>\n",
              "      <td>2.042625</td>\n",
              "      <td>0.09699</td>\n",
              "    </tr>\n",
              "    <tr>\n",
              "      <th>std</th>\n",
              "      <td>28.89747</td>\n",
              "      <td>0.415712</td>\n",
              "      <td>0.026171</td>\n",
              "      <td>0.29644</td>\n",
              "    </tr>\n",
              "  </tbody>\n",
              "</table>\n",
              "</div>\n",
              "      <button class=\"colab-df-convert\" onclick=\"convertToInteractive('df-a1164c6d-88f8-4b6c-b64c-ce1df6d7f2b5')\"\n",
              "              title=\"Convert this dataframe to an interactive table.\"\n",
              "              style=\"display:none;\">\n",
              "        \n",
              "  <svg xmlns=\"http://www.w3.org/2000/svg\" height=\"24px\"viewBox=\"0 0 24 24\"\n",
              "       width=\"24px\">\n",
              "    <path d=\"M0 0h24v24H0V0z\" fill=\"none\"/>\n",
              "    <path d=\"M18.56 5.44l.94 2.06.94-2.06 2.06-.94-2.06-.94-.94-2.06-.94 2.06-2.06.94zm-11 1L8.5 8.5l.94-2.06 2.06-.94-2.06-.94L8.5 2.5l-.94 2.06-2.06.94zm10 10l.94 2.06.94-2.06 2.06-.94-2.06-.94-.94-2.06-.94 2.06-2.06.94z\"/><path d=\"M17.41 7.96l-1.37-1.37c-.4-.4-.92-.59-1.43-.59-.52 0-1.04.2-1.43.59L10.3 9.45l-7.72 7.72c-.78.78-.78 2.05 0 2.83L4 21.41c.39.39.9.59 1.41.59.51 0 1.02-.2 1.41-.59l7.78-7.78 2.81-2.81c.8-.78.8-2.07 0-2.86zM5.41 20L4 18.59l7.72-7.72 1.47 1.35L5.41 20z\"/>\n",
              "  </svg>\n",
              "      </button>\n",
              "      \n",
              "  <style>\n",
              "    .colab-df-container {\n",
              "      display:flex;\n",
              "      flex-wrap:wrap;\n",
              "      gap: 12px;\n",
              "    }\n",
              "\n",
              "    .colab-df-convert {\n",
              "      background-color: #E8F0FE;\n",
              "      border: none;\n",
              "      border-radius: 50%;\n",
              "      cursor: pointer;\n",
              "      display: none;\n",
              "      fill: #1967D2;\n",
              "      height: 32px;\n",
              "      padding: 0 0 0 0;\n",
              "      width: 32px;\n",
              "    }\n",
              "\n",
              "    .colab-df-convert:hover {\n",
              "      background-color: #E2EBFA;\n",
              "      box-shadow: 0px 1px 2px rgba(60, 64, 67, 0.3), 0px 1px 3px 1px rgba(60, 64, 67, 0.15);\n",
              "      fill: #174EA6;\n",
              "    }\n",
              "\n",
              "    [theme=dark] .colab-df-convert {\n",
              "      background-color: #3B4455;\n",
              "      fill: #D2E3FC;\n",
              "    }\n",
              "\n",
              "    [theme=dark] .colab-df-convert:hover {\n",
              "      background-color: #434B5C;\n",
              "      box-shadow: 0px 1px 3px 1px rgba(0, 0, 0, 0.15);\n",
              "      filter: drop-shadow(0px 1px 2px rgba(0, 0, 0, 0.3));\n",
              "      fill: #FFFFFF;\n",
              "    }\n",
              "  </style>\n",
              "\n",
              "      <script>\n",
              "        const buttonEl =\n",
              "          document.querySelector('#df-a1164c6d-88f8-4b6c-b64c-ce1df6d7f2b5 button.colab-df-convert');\n",
              "        buttonEl.style.display =\n",
              "          google.colab.kernel.accessAllowed ? 'block' : 'none';\n",
              "\n",
              "        async function convertToInteractive(key) {\n",
              "          const element = document.querySelector('#df-a1164c6d-88f8-4b6c-b64c-ce1df6d7f2b5');\n",
              "          const dataTable =\n",
              "            await google.colab.kernel.invokeFunction('convertToInteractive',\n",
              "                                                     [key], {});\n",
              "          if (!dataTable) return;\n",
              "\n",
              "          const docLinkHtml = 'Like what you see? Visit the ' +\n",
              "            '<a target=\"_blank\" href=https://colab.research.google.com/notebooks/data_table.ipynb>data table notebook</a>'\n",
              "            + ' to learn more about interactive tables.';\n",
              "          element.innerHTML = '';\n",
              "          dataTable['output_type'] = 'display_data';\n",
              "          await google.colab.output.renderOutput(dataTable, element);\n",
              "          const docLink = document.createElement('div');\n",
              "          docLink.innerHTML = docLinkHtml;\n",
              "          element.appendChild(docLink);\n",
              "        }\n",
              "      </script>\n",
              "    </div>\n",
              "  </div>\n",
              "  "
            ]
          },
          "metadata": {},
          "execution_count": 22
        }
      ]
    },
    {
      "cell_type": "markdown",
      "source": [
        "#### 2.1. Použijte model odhadnutý v bodu 1 k predikci pravděpodobnosti prokliku."
      ],
      "metadata": {
        "id": "ElAAr23JM-ip"
      }
    },
    {
      "cell_type": "code",
      "source": [
        "#Predikce pravdepodobnosti prokliku a jeji ulozeni do sloupce prob\n",
        "def predict_prob(df, clf, X_train):\n",
        "  X, _ = preprocess_dataset(df,train=False)\n",
        "  _, X = normalize(X_train, validation = X) # normalizuji podle skaly trenovacich dat\n",
        "  return pd.DataFrame(clf.predict_proba(X), index=X.index)[1].rename(\"prob\")\n",
        "\n",
        "pred = predict_prob(df_test_modified2, clf, X)\n",
        "df_test2_pred = df_test_modified2.join(pred)\n",
        "display(df_test2_pred.head())"
      ],
      "metadata": {
        "colab": {
          "base_uri": "https://localhost:8080/",
          "height": 206
        },
        "id": "U-yn4yoGHbE3",
        "outputId": "f809d8a9-03a0-4cbd-d907-a2ab30636e82"
      },
      "execution_count": null,
      "outputs": [
        {
          "output_type": "display_data",
          "data": {
            "text/plain": [
              "   auction_id bidder_id                 time  feature_1  feature_2  click  \\\n",
              "0           0         A  2022-01-01 00:00:00   0.924157   1.996885    0.0   \n",
              "1           0         B  2022-01-01 00:00:00   1.829279   1.996885    0.0   \n",
              "2           0         C  2022-01-01 00:00:00   1.614743   1.996885    0.0   \n",
              "3           1         A  2022-01-01 00:01:18   0.997719   1.983486    0.0   \n",
              "4           1         B  2022-01-01 00:01:18   2.016334   1.983486    0.0   \n",
              "\n",
              "       prob  \n",
              "0  0.046098  \n",
              "1  0.317277  \n",
              "2  0.117098  \n",
              "3  0.042067  \n",
              "4  0.296915  "
            ],
            "text/html": [
              "\n",
              "  <div id=\"df-df6a03db-28b3-43ad-9f00-d21f18962db1\">\n",
              "    <div class=\"colab-df-container\">\n",
              "      <div>\n",
              "<style scoped>\n",
              "    .dataframe tbody tr th:only-of-type {\n",
              "        vertical-align: middle;\n",
              "    }\n",
              "\n",
              "    .dataframe tbody tr th {\n",
              "        vertical-align: top;\n",
              "    }\n",
              "\n",
              "    .dataframe thead th {\n",
              "        text-align: right;\n",
              "    }\n",
              "</style>\n",
              "<table border=\"1\" class=\"dataframe\">\n",
              "  <thead>\n",
              "    <tr style=\"text-align: right;\">\n",
              "      <th></th>\n",
              "      <th>auction_id</th>\n",
              "      <th>bidder_id</th>\n",
              "      <th>time</th>\n",
              "      <th>feature_1</th>\n",
              "      <th>feature_2</th>\n",
              "      <th>click</th>\n",
              "      <th>prob</th>\n",
              "    </tr>\n",
              "  </thead>\n",
              "  <tbody>\n",
              "    <tr>\n",
              "      <th>0</th>\n",
              "      <td>0</td>\n",
              "      <td>A</td>\n",
              "      <td>2022-01-01 00:00:00</td>\n",
              "      <td>0.924157</td>\n",
              "      <td>1.996885</td>\n",
              "      <td>0.0</td>\n",
              "      <td>0.046098</td>\n",
              "    </tr>\n",
              "    <tr>\n",
              "      <th>1</th>\n",
              "      <td>0</td>\n",
              "      <td>B</td>\n",
              "      <td>2022-01-01 00:00:00</td>\n",
              "      <td>1.829279</td>\n",
              "      <td>1.996885</td>\n",
              "      <td>0.0</td>\n",
              "      <td>0.317277</td>\n",
              "    </tr>\n",
              "    <tr>\n",
              "      <th>2</th>\n",
              "      <td>0</td>\n",
              "      <td>C</td>\n",
              "      <td>2022-01-01 00:00:00</td>\n",
              "      <td>1.614743</td>\n",
              "      <td>1.996885</td>\n",
              "      <td>0.0</td>\n",
              "      <td>0.117098</td>\n",
              "    </tr>\n",
              "    <tr>\n",
              "      <th>3</th>\n",
              "      <td>1</td>\n",
              "      <td>A</td>\n",
              "      <td>2022-01-01 00:01:18</td>\n",
              "      <td>0.997719</td>\n",
              "      <td>1.983486</td>\n",
              "      <td>0.0</td>\n",
              "      <td>0.042067</td>\n",
              "    </tr>\n",
              "    <tr>\n",
              "      <th>4</th>\n",
              "      <td>1</td>\n",
              "      <td>B</td>\n",
              "      <td>2022-01-01 00:01:18</td>\n",
              "      <td>2.016334</td>\n",
              "      <td>1.983486</td>\n",
              "      <td>0.0</td>\n",
              "      <td>0.296915</td>\n",
              "    </tr>\n",
              "  </tbody>\n",
              "</table>\n",
              "</div>\n",
              "      <button class=\"colab-df-convert\" onclick=\"convertToInteractive('df-df6a03db-28b3-43ad-9f00-d21f18962db1')\"\n",
              "              title=\"Convert this dataframe to an interactive table.\"\n",
              "              style=\"display:none;\">\n",
              "        \n",
              "  <svg xmlns=\"http://www.w3.org/2000/svg\" height=\"24px\"viewBox=\"0 0 24 24\"\n",
              "       width=\"24px\">\n",
              "    <path d=\"M0 0h24v24H0V0z\" fill=\"none\"/>\n",
              "    <path d=\"M18.56 5.44l.94 2.06.94-2.06 2.06-.94-2.06-.94-.94-2.06-.94 2.06-2.06.94zm-11 1L8.5 8.5l.94-2.06 2.06-.94-2.06-.94L8.5 2.5l-.94 2.06-2.06.94zm10 10l.94 2.06.94-2.06 2.06-.94-2.06-.94-.94-2.06-.94 2.06-2.06.94z\"/><path d=\"M17.41 7.96l-1.37-1.37c-.4-.4-.92-.59-1.43-.59-.52 0-1.04.2-1.43.59L10.3 9.45l-7.72 7.72c-.78.78-.78 2.05 0 2.83L4 21.41c.39.39.9.59 1.41.59.51 0 1.02-.2 1.41-.59l7.78-7.78 2.81-2.81c.8-.78.8-2.07 0-2.86zM5.41 20L4 18.59l7.72-7.72 1.47 1.35L5.41 20z\"/>\n",
              "  </svg>\n",
              "      </button>\n",
              "      \n",
              "  <style>\n",
              "    .colab-df-container {\n",
              "      display:flex;\n",
              "      flex-wrap:wrap;\n",
              "      gap: 12px;\n",
              "    }\n",
              "\n",
              "    .colab-df-convert {\n",
              "      background-color: #E8F0FE;\n",
              "      border: none;\n",
              "      border-radius: 50%;\n",
              "      cursor: pointer;\n",
              "      display: none;\n",
              "      fill: #1967D2;\n",
              "      height: 32px;\n",
              "      padding: 0 0 0 0;\n",
              "      width: 32px;\n",
              "    }\n",
              "\n",
              "    .colab-df-convert:hover {\n",
              "      background-color: #E2EBFA;\n",
              "      box-shadow: 0px 1px 2px rgba(60, 64, 67, 0.3), 0px 1px 3px 1px rgba(60, 64, 67, 0.15);\n",
              "      fill: #174EA6;\n",
              "    }\n",
              "\n",
              "    [theme=dark] .colab-df-convert {\n",
              "      background-color: #3B4455;\n",
              "      fill: #D2E3FC;\n",
              "    }\n",
              "\n",
              "    [theme=dark] .colab-df-convert:hover {\n",
              "      background-color: #434B5C;\n",
              "      box-shadow: 0px 1px 3px 1px rgba(0, 0, 0, 0.15);\n",
              "      filter: drop-shadow(0px 1px 2px rgba(0, 0, 0, 0.3));\n",
              "      fill: #FFFFFF;\n",
              "    }\n",
              "  </style>\n",
              "\n",
              "      <script>\n",
              "        const buttonEl =\n",
              "          document.querySelector('#df-df6a03db-28b3-43ad-9f00-d21f18962db1 button.colab-df-convert');\n",
              "        buttonEl.style.display =\n",
              "          google.colab.kernel.accessAllowed ? 'block' : 'none';\n",
              "\n",
              "        async function convertToInteractive(key) {\n",
              "          const element = document.querySelector('#df-df6a03db-28b3-43ad-9f00-d21f18962db1');\n",
              "          const dataTable =\n",
              "            await google.colab.kernel.invokeFunction('convertToInteractive',\n",
              "                                                     [key], {});\n",
              "          if (!dataTable) return;\n",
              "\n",
              "          const docLinkHtml = 'Like what you see? Visit the ' +\n",
              "            '<a target=\"_blank\" href=https://colab.research.google.com/notebooks/data_table.ipynb>data table notebook</a>'\n",
              "            + ' to learn more about interactive tables.';\n",
              "          element.innerHTML = '';\n",
              "          dataTable['output_type'] = 'display_data';\n",
              "          await google.colab.output.renderOutput(dataTable, element);\n",
              "          const docLink = document.createElement('div');\n",
              "          docLink.innerHTML = docLinkHtml;\n",
              "          element.appendChild(docLink);\n",
              "        }\n",
              "      </script>\n",
              "    </div>\n",
              "  </div>\n",
              "  "
            ]
          },
          "metadata": {}
        }
      ]
    },
    {
      "cell_type": "markdown",
      "source": [
        "#### 2.2. Jaký je očekávaný celkový výnos z těchto aukcí?"
      ],
      "metadata": {
        "id": "8J4wHg1sNF0F"
      }
    },
    {
      "cell_type": "code",
      "source": [
        "df_test = df_test_raw.set_index('auction_id').fillna(0)\n",
        "df_test2 = df_test2_pred.set_index(['bidder_id','auction_id'])\n",
        "f3 = df_test2.join(pd.Series(df_test2.index.map(lambda x: df_test.loc[x[1]][x[0]]), index=df_test2.index, name='bid'))\n",
        "f3['bid_online'] = f3['bid']*f3['prob']\n",
        "max_bid_online_mask_test = f3.groupby('auction_id')['bid_online'].transform(max) == f3['bid_online']\n",
        "winners = find_winners(f3, df_test, max_bid_online_mask_test)\n",
        "\n",
        "winners[winners['click']!=0]['bid_actual'].sum()"
      ],
      "metadata": {
        "colab": {
          "base_uri": "https://localhost:8080/"
        },
        "id": "bVgjgcXdNGWt",
        "outputId": "0b428299-fa84-4aad-d55b-c785df53ae20"
      },
      "execution_count": null,
      "outputs": [
        {
          "output_type": "execute_result",
          "data": {
            "text/plain": [
              "282.79855090993055"
            ]
          },
          "metadata": {},
          "execution_count": 24
        }
      ]
    }
  ]
}